{
 "cells": [
  {
   "cell_type": "markdown",
   "metadata": {},
   "source": [
    "### Load trained model\n",
    "1. Learning TensorFlow: A Guide to Building Deep Learning Systems (Kindle Locations 4707-4709). O'Reilly Media. Kindle Edition. "
   ]
  },
  {
   "cell_type": "code",
   "execution_count": null,
   "metadata": {},
   "outputs": [],
   "source": [
    "#import keras #now part of tensorflow\n",
    "from tensorflow import keras\n",
    "from keras.layers import Input, Conv2D, MaxPooling2D, UpSampling2D\n",
    "from keras.models import Model\n",
    "from keras.callbacks import TensorBoard, ModelCheckpoint\n",
    "from keras.datasets import cifar10\n",
    "import numpy as np\n",
    "\n",
    "(x_train, y_train), (x_test, y_test) = cifar10.load_data()\n",
    "x_train = x_train[np.where(y_train==1)[0],:,:,:]\n",
    "x_test = x_test[np.where(y_test==1)[0],:,:,:]\n",
    "\n",
    "x_train = x_train.astype('float32') / 255.\n",
    "x_test = x_test.astype('float32') / 255.\n",
    "\n",
    "x_train_n = x_train + 0.5 *\\\n",
    " np.random.normal(loc=0.0, scale=0.4, size=x_train.shape) \n",
    "\n",
    "x_test_n = x_test + 0.5 *\\\n",
    " np.random.normal(loc=0.0, scale=0.4, size=x_test.shape) \n",
    "\n",
    "x_train_n = np.clip(x_train_n, 0., 1.)\n",
    "x_test_n = np.clip(x_test_n, 0., 1.)\n",
    "\n",
    "inp_img = Input(shape=(32, 32, 3)) \n",
    "img= Conv2D(32, (3, 3), activation='relu', padding='same')(inp_img)\n",
    "img = MaxPooling2D((2, 2), padding='same')(img)\n",
    "img = Conv2D(32, (3, 3), activation='relu', padding='same')(img)\n",
    "img = UpSampling2D((2, 2))(img)\n",
    "decoded = Conv2D(3, (3, 3), activation='sigmoid', padding='same')(img)\n",
    "\n",
    "autoencoder = Model(inp_img, decoded)\n",
    "Model.load_weights(autoencoder,'./models/autoencoder/autoencoder_model')"
   ]
  },
  {
   "cell_type": "code",
   "execution_count": null,
   "metadata": {},
   "outputs": [],
   "source": [
    "import matplotlib.pyplot as plt\n",
    "% matplotlib inline\n",
    "\n",
    "n_imgs = 10\n",
    "f,axarr = plt.subplots(2,n_imgs,figsize=[20,5])\n",
    "decoded_imgs = autoencoder.predict(x_test_n)\n",
    "\n",
    "for i in range(n_imgs):\n",
    "    \n",
    "    ax = axarr[0,i]\n",
    "    ax.get_yaxis().set_visible(False)\n",
    "    ax.imshow(x_test_n[i,:,:,:])\n",
    "    plt.gray()\n",
    "    ax.get_xaxis().set_visible(False)\n",
    "    ax.get_yaxis().set_visible(False)\n",
    "    \n",
    "    ax = axarr[1,i]\n",
    "    ax.get_yaxis().set_visible(False)\n",
    "    ax.imshow(decoded_imgs[i,:,:,:])\n",
    "    plt.gray()\n",
    "    ax.get_xaxis().set_visible(False)\n",
    "    ax.get_yaxis().set_visible(False)\n",
    "            \n",
    "plt.tight_layout()\n",
    "plt.show()"
   ]
  }
 ],
 "metadata": {
  "kernelspec": {
   "display_name": "Python 3",
   "language": "python",
   "name": "python3"
  },
  "language_info": {
   "codemirror_mode": {
    "name": "ipython",
    "version": 3
   },
   "file_extension": ".py",
   "mimetype": "text/x-python",
   "name": "python",
   "nbconvert_exporter": "python",
   "pygments_lexer": "ipython3",
   "version": "3.6.5"
  }
 },
 "nbformat": 4,
 "nbformat_minor": 2
}
