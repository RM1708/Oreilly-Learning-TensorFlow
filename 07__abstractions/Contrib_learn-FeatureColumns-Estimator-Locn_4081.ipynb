{
 "cells": [
  {
   "cell_type": "markdown",
   "metadata": {},
   "source": [
    "### Estimator: contrib.learn using Feature columns\n",
    "1. learn.LinearRegressor Learning TensorFlow: A Guide to Building Deep Learning Systems (Kindle Locations 4081-4082). O'Reilly Media. Kindle Edition. "
   ]
  },
  {
   "cell_type": "code",
   "execution_count": null,
   "metadata": {},
   "outputs": [],
   "source": [
    "import tensorflow as tf\n",
    "from tensorflow.contrib import layers\n",
    "from tensorflow.contrib import learn\n",
    "import pandas as pd\n",
    "import numpy as np"
   ]
  },
  {
   "cell_type": "code",
   "execution_count": null,
   "metadata": {},
   "outputs": [],
   "source": [
    "N = 10000\n",
    "\n",
    "weight = np.random.randn(N)*5+70\n",
    "spec_id = np.random.randint(0,3,N)\n",
    "bias = [0.9,1,1.1]\n",
    "height = np.array([weight[i]/100 + bias[b] for i,b in enumerate(spec_id)])\n",
    "spec_name = ['Goblin','Human','ManBears']\n",
    "\n",
    "spec = [spec_name[s] for s in spec_id]\n",
    "df = pd.DataFrame({'Species':spec,'Weight':weight,'Height':height})\n"
   ]
  },
  {
   "cell_type": "code",
   "execution_count": null,
   "metadata": {},
   "outputs": [],
   "source": [
    "def input_fn(df):\n",
    "    feature_cols = {}\n",
    "    feature_cols['Weight'] = tf.constant(df['Weight'].values)\n",
    "    \n",
    "    feature_cols['Species'] =  tf.SparseTensor(\n",
    "    indices=[[i, 0] for i in range(df['Species'].size)],\n",
    "    values=df['Species'].values,\n",
    "    dense_shape=[df['Species'].size, 1])\n",
    "                    \n",
    "    labels = tf.constant(df['Height'].values)\n",
    "\n",
    "    return feature_cols, labels"
   ]
  },
  {
   "cell_type": "code",
   "execution_count": null,
   "metadata": {},
   "outputs": [],
   "source": [
    "Weight = layers.real_valued_column(\"Weight\")\n",
    "\n",
    "Species = layers.sparse_column_with_keys(\n",
    "    column_name=\"Species\", keys=['Goblin','Human','ManBears'])\n",
    "\n",
    "reg = learn.LinearRegressor(feature_columns=[Weight,Species])\n",
    "reg.fit(input_fn=lambda:input_fn(df), steps=50000)"
   ]
  },
  {
   "cell_type": "code",
   "execution_count": null,
   "metadata": {},
   "outputs": [],
   "source": [
    "w_w = reg.get_variable_value('linear/Weight/weight')\n",
    "print('Estimation for Weight: {}'.format(w_w))\n",
    "\n",
    "s_w = reg.get_variable_value('linear/Species/weights')\n",
    "b = reg.get_variable_value('linear/bias_weight')\n",
    "print('Estimation for Species: {}'.format(s_w + b))"
   ]
  }
 ],
 "metadata": {
  "kernelspec": {
   "display_name": "Python 3",
   "language": "python",
   "name": "python3"
  },
  "language_info": {
   "codemirror_mode": {
    "name": "ipython",
    "version": 3
   },
   "file_extension": ".py",
   "mimetype": "text/x-python",
   "name": "python",
   "nbconvert_exporter": "python",
   "pygments_lexer": "ipython3",
   "version": "3.6.0"
  }
 },
 "nbformat": 4,
 "nbformat_minor": 2
}
