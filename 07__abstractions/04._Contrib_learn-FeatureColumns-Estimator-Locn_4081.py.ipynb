{
 "cells": [
  {
   "cell_type": "code",
   "execution_count": null,
   "metadata": {},
   "outputs": [],
   "source": [
    "# coding: utf-8\n",
    "\n",
    "# ### Estimator: contrib.learn using Feature columns\n",
    "# 1. learn.LinearRegressor Learning TensorFlow: A Guide to Building Deep Learning Systems (Kindle Locations 4081-4082). O'Reilly Media. Kindle Edition. \n",
    "\n",
    "# In[1]:\n",
    "\n",
    "\n",
    "import tensorflow as tf\n",
    "from tensorflow.contrib import layers\n",
    "from tensorflow.contrib import learn\n",
    "import pandas as pd\n",
    "import numpy as np\n",
    "import matplotlib.pyplot as plt\n",
    "\n",
    "# In[2]:\n",
    "\n"
   ]
  },
  {
   "cell_type": "markdown",
   "metadata": {},
   "source": [
    "### Generate example categorical data"
   ]
  },
  {
   "cell_type": "code",
   "execution_count": null,
   "metadata": {},
   "outputs": [],
   "source": [
    "\n",
    "POPULATION = 10000\n",
    "#Generate POPULATION random, normally distributed, body weights with mean of 70kgs\n",
    "#and standard deviation of 5 kgs.\n",
    "#NOTE: The index in the list is an implicit id for each individual member of the\n",
    "#population\n",
    "list_of_individual_body_weights = np.random.randn(POPULATION)*5+70\n",
    "\n",
    "#There are just 3 three species in the population. We give them ids 0, 1, & 2.\n",
    "#Randomize the allocation of species to the membeers of the population.\n",
    "population_species_id_list = np.random.randint(0,3,POPULATION)\n",
    "species_specific_correction = [0.9,1,1.1]\n",
    "height_units_per_unit_weight = [0.01,0.01, 0.01] # What if each species had a different value\n",
    "list_of_individual_heights = np.array([list_of_individual_body_weights[i] * \\\n",
    "                                       height_units_per_unit_weight[species_id] + \\\n",
    "                   species_specific_correction[species_id] \\\n",
    "                   for i, species_id in enumerate(population_species_id_list)])\n",
    "list_of_species_names = ['Goblin','Human','ManBears']\n",
    "\n",
    "list_of_species_of_individual_members = [list_of_species_names[s] \\\n",
    "                                         for s in population_species_id_list]\n",
    "\n"
   ]
  },
  {
   "cell_type": "code",
   "execution_count": null,
   "metadata": {},
   "outputs": [],
   "source": [
    " #population_species_id_list[:10]"
   ]
  },
  {
   "cell_type": "code",
   "execution_count": null,
   "metadata": {},
   "outputs": [],
   "source": [
    "#population_species_id_list[:10] == 0"
   ]
  },
  {
   "cell_type": "code",
   "execution_count": null,
   "metadata": {},
   "outputs": [],
   "source": [
    "#list_of_individual_heights[:10][population_species_id_list[:10] == 0]"
   ]
  },
  {
   "cell_type": "markdown",
   "metadata": {},
   "source": [
    "### plot and create data frame"
   ]
  },
  {
   "cell_type": "code",
   "execution_count": null,
   "metadata": {},
   "outputs": [],
   "source": [
    "colors = ['r','b','g']\n",
    "PLOT_0 = 0\n",
    "PLOT_1 = 1\n",
    "\n",
    "list_of_individual_heights = list_of_individual_heights + np.random.randn(POPULATION)*0.015\n",
    "#It is the implicit identical ordering of the 3 lists that allows putting the data into\n",
    "#a table in a straight-forward manner.\n",
    "table_species_weight_height = \\\n",
    "        pd.DataFrame({'Species':list_of_species_of_individual_members,\\\n",
    "                   'Weight':list_of_individual_body_weights,\\\n",
    "                   'Height':list_of_individual_heights})\n",
    "\n",
    "_ , axarr = plt.subplots(1,2,figsize = [7,3])\n",
    "\n",
    "hist_plot = axarr[PLOT_0]\n",
    "\n",
    "hist_plot.set_ylim([0,260])\n",
    "hist_plot.set_xlim([1.38,2.05])\n",
    "\n",
    "#Position the text for the histogram\n",
    "hist_plot.text(1.42,150,'Goblins')\n",
    "hist_plot.text(1.63,210,'Humans')\n",
    "hist_plot.text(1.85,150,'ManBears')\n",
    "\n",
    "for ii in range(3):\n",
    "    hist_plot.hist(list_of_individual_heights[population_species_id_list == ii],50,color=colors[ii],alpha=0.5)\n",
    "    hist_plot.set_xlabel('Height')\n",
    "    hist_plot.set_ylabel('Frequency')\n",
    "    hist_plot.set_title('Heights distribution')\n",
    "    \n",
    "hist_plot.legend(['Goblins','Humans','ManBears'],loc=2, shadow=True,prop={'size':6})\n",
    "\n",
    "x_y_plot = axarr[PLOT_1]\n",
    "x_y_plot.set_ylim([45,100])\n",
    "x_y_plot.set_xlim([1.25, 2.1])\n",
    "\n",
    "x_y_plot.plot(table_species_weight_height['Height'],\\\n",
    "        table_species_weight_height['Weight'],\\\n",
    "        'o',alpha=0.3,mfc='w',mec='b')\n",
    "x_y_plot.set_xlabel('Weight')\n",
    "x_y_plot.set_ylabel('Height')\n",
    "x_y_plot.set_title('Heights vs. Weights')\n",
    "    \n",
    "plt.tight_layout()\n",
    "plt.savefig('test.png', bbox_inches='tight', format='png', dpi=300)\n",
    "\n",
    "plt.show()\n"
   ]
  },
  {
   "cell_type": "code",
   "execution_count": null,
   "metadata": {},
   "outputs": [],
   "source": [
    "def input_fn(table_species_weight_height):\n",
    "    feature_cols = {}\n",
    "    feature_cols['Weight'] = tf.constant(table_species_weight_height['Weight'].values)\n",
    "    \n",
    "    indices=[[i, 0] for i in range(table_species_weight_height['Species'].size)]\n",
    "    values=table_species_weight_height['Species'].values\n",
    "    dense_shape=[table_species_weight_height['Species'].size, 1]\n",
    "            \n",
    "    feature_cols['Species'] =  tf.SparseTensor(indices, values, dense_shape)\n",
    "                    \n",
    "    measured_heights = tf.constant(table_species_weight_height['Height'].values)\n",
    "\n",
    "    return feature_cols, measured_heights\n"
   ]
  },
  {
   "cell_type": "code",
   "execution_count": null,
   "metadata": {},
   "outputs": [],
   "source": [
    "Weight = layers.real_valued_column(\"Weight\")\n",
    "\n",
    "Species = layers.sparse_column_with_keys(\n",
    "    column_name=\"Species\", keys=['Goblin','Human','ManBears'])"
   ]
  },
  {
   "cell_type": "code",
   "execution_count": null,
   "metadata": {},
   "outputs": [],
   "source": [
    "reg = learn.LinearRegressor(feature_columns=[Weight,Species])"
   ]
  },
  {
   "cell_type": "code",
   "execution_count": null,
   "metadata": {},
   "outputs": [],
   "source": [
    "reg.fit(input_fn=lambda:input_fn(table_species_weight_height), steps=25000)#steps=50000)"
   ]
  },
  {
   "cell_type": "code",
   "execution_count": null,
   "metadata": {},
   "outputs": [],
   "source": [
    "regressor_var_names = reg.get_variable_names()\n",
    "#print regressor_var_names to see where the arguments for get_variable_value() come from.\n",
    "\n",
    "w_w = reg.get_variable_value('linear/Weight/weight')\n",
    "print('Estimate of linear slope (height_units_per_unit_weight): {}'.format(w_w))\n",
    "\n",
    "s_w = reg.get_variable_value('linear/Species/weights')\n",
    "b = reg.get_variable_value('linear/bias_weight')\n",
    "estimate = (s_w + b)\n",
    "print('\\nEstimate of species specific correction for:\\n Goblins: {}; \\n Humans: {} \\n ManBears: {} \\n'.format(estimate[0], \\\n",
    "                                                                                                 estimate[1], \\\n",
    "                                                                                                  estimate[2]))\n",
    "\n"
   ]
  },
  {
   "cell_type": "code",
   "execution_count": null,
   "metadata": {},
   "outputs": [],
   "source": [
    "reg.get_variable_names()"
   ]
  },
  {
   "cell_type": "code",
   "execution_count": null,
   "metadata": {},
   "outputs": [],
   "source": [
    "w_w = reg.get_variable_value('linear/Weight/weight/r/Weight/weight/part_0/Ftrl')\n",
    "print('Estimation for Weight:\\n{}'.format(w_w))\n"
   ]
  },
  {
   "cell_type": "code",
   "execution_count": null,
   "metadata": {},
   "outputs": [],
   "source": [
    "w_w = reg.get_variable_value('linear/Weight/weight/r/Weight/weight/part_0/Ftrl_1')\n",
    "print('Estimation for Weight:\\n{}'.format(w_w))\n"
   ]
  },
  {
   "cell_type": "code",
   "execution_count": null,
   "metadata": {},
   "outputs": [],
   "source": []
  }
 ],
 "metadata": {
  "kernelspec": {
   "display_name": "Python 3",
   "language": "python",
   "name": "python3"
  },
  "language_info": {
   "codemirror_mode": {
    "name": "ipython",
    "version": 3
   },
   "file_extension": ".py",
   "mimetype": "text/x-python",
   "name": "python",
   "nbconvert_exporter": "python",
   "pygments_lexer": "ipython3",
   "version": "3.6.5"
  }
 },
 "nbformat": 4,
 "nbformat_minor": 2
}
