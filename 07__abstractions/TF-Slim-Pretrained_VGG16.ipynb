{
 "cells": [
  {
   "cell_type": "code",
   "execution_count": null,
   "metadata": {},
   "outputs": [],
   "source": [
    "from tensorflow.contrib import slim\n",
    "import sys\n",
    "from datasets import dataset_utils\n",
    "import tensorflow as tf\n",
    "#import urllib2\n",
    "import urllib\n",
    "from nets import vgg\n",
    "from preprocessing import vgg_preprocessing\n",
    "import os\n",
    "\n",
    "sys.path.append(\"/home/rm/tensorflow_models/slim\")\n",
    "\n",
    "target_dir = '/home/rm/tmp/TF-Slim-PretrainedVGG16/checkpoints/'\n",
    "\n",
    "url = (\"http://54.68.5.226/car.jpg\")\n",
    "\n",
    "#im_as_string = urllib2.urlopen(url).read()  \n",
    "im_as_string = urllib.request.urlopen(url).read()  \n",
    "im = tf.image.decode_jpeg(im_as_string, channels=3)\n",
    "\n",
    "image_size = vgg.vgg_16.default_image_size\n",
    "\n",
    "processed_im = vgg_preprocessing.preprocess_image(im,\n",
    "                                                         image_size,\n",
    "                                                         image_size,\n",
    "                                                         is_training=False)\n",
    "\n",
    "processed_images  = tf.expand_dims(processed_im, 0)\n",
    "\n",
    "with slim.arg_scope(vgg.vgg_arg_scope()):\n",
    "     logits, _ = vgg.vgg_16(processed_images,\n",
    "                            num_classes=1000,\n",
    "                             is_training=False)\n",
    "probabilities = tf.nn.softmax(logits)\n",
    "\n",
    "def vgg_arg_scope(weight_decay=0.0005):\n",
    "    with slim.arg_scope([slim.conv2d, slim.fully_connected],\n",
    "                     activation_fn=tf.nn.relu,\n",
    "                     weights_regularizer=slim.l2_regularizer(weight_decay),\n",
    "                     biases_initializer=tf.zeros_initializer):\n",
    "        with slim.arg_scope([slim.conv2d], padding='SAME') as arg_sc:\n",
    "            return arg_sc\n",
    "\n",
    "\n",
    "\n",
    "load_vars = slim.assign_from_checkpoint_fn(\n",
    "     os.path.join(target_dir, 'vgg_16.ckpt'),\n",
    "     slim.get_model_variables('vgg_16'))\n",
    "\n",
    "\n",
    "from datasets import imagenet\n",
    "imagenet.create_readable_names_for_imagenet_labels()"
   ]
  },
  {
   "cell_type": "markdown",
   "metadata": {},
   "source": [
    "### Infer class and probability"
   ]
  },
  {
   "cell_type": "code",
   "execution_count": null,
   "metadata": {},
   "outputs": [],
   "source": [
    "names = []\n",
    "import numpy as np\n",
    "with tf.Session() as sess:\n",
    "    load_vars(sess)     \n",
    "    network_input, probabilities = sess.run([processed_images,\n",
    "                                             probabilities])\n",
    "    probabilities = probabilities[0, 0:]\n",
    "    names_ = imagenet.create_readable_names_for_imagenet_labels()\n",
    "    idxs = np.argsort(-probabilities)[:5]\n",
    "    probs = probabilities[idxs]\n",
    "    \n",
    "#    classes = np.array(names_.values())[idxs+1]\n",
    "    classes = np.asarray(list(names_.values()))[idxs+1]\n",
    "    \n",
    "    for c,p in zip(classes,probs):\n",
    "        print('Class: '+ c + ' |Prob: ' + str(p))"
   ]
  }
 ],
 "metadata": {
  "kernelspec": {
   "display_name": "Python 3",
   "language": "python",
   "name": "python3"
  },
  "language_info": {
   "codemirror_mode": {
    "name": "ipython",
    "version": 3
   },
   "file_extension": ".py",
   "mimetype": "text/x-python",
   "name": "python",
   "nbconvert_exporter": "python",
   "pygments_lexer": "ipython3",
   "version": "3.6.0"
  }
 },
 "nbformat": 4,
 "nbformat_minor": 2
}
