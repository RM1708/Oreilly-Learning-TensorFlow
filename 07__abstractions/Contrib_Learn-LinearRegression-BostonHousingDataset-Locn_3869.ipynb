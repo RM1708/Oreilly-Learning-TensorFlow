{
 "cells": [
  {
   "cell_type": "markdown",
   "metadata": {},
   "source": [
    "### Linear Regression\n",
    "1. Learning TensorFlow: A Guide to Building Deep Learning Systems (Kindle Location 3869). O'Reilly Media. Kindle Edition. "
   ]
  },
  {
   "cell_type": "code",
   "execution_count": null,
   "metadata": {},
   "outputs": [],
   "source": [
    "import tensorflow as tf\n",
    "from tensorflow.contrib import learn\n",
    "from sklearn import datasets, metrics, preprocessing\n",
    "import sys\n",
    "import numpy as np\n",
    "from tensorflow.examples.tutorials.mnist import input_data\n",
    "import matplotlib.pyplot as plt\n",
    "from sklearn.metrics import confusion_matrix\n",
    "import itertools\n"
   ]
  },
  {
   "cell_type": "code",
   "execution_count": null,
   "metadata": {},
   "outputs": [],
   "source": [
    "boston = datasets.load_boston()\n",
    "x_data = preprocessing.StandardScaler().fit_transform(boston.data)\n",
    "y_data = boston.target"
   ]
  },
  {
   "cell_type": "markdown",
   "metadata": {},
   "source": [
    "#### Native TensorFlow"
   ]
  },
  {
   "cell_type": "code",
   "execution_count": null,
   "metadata": {},
   "outputs": [],
   "source": [
    "x = tf.placeholder(tf.float64,shape=(None,13))\n",
    "y_true = tf.placeholder(tf.float64,shape=(None))\n",
    "\n",
    "with tf.name_scope('inference') as scope:\n",
    "    w = tf.Variable(tf.zeros([1,13],dtype=tf.float64,name='weights'))\n",
    "    b = tf.Variable(0,dtype=tf.float64,name='bias')\n",
    "    y_pred = tf.matmul(w,tf.transpose(x)) + b\n",
    "\n",
    "with tf.name_scope('loss') as scope:\n",
    "    loss = tf.reduce_mean(tf.square(y_true-y_pred))\n",
    "\n",
    "with tf.name_scope('train') as scope:\n",
    "    learning_rate = 0.1\n",
    "    optimizer = tf.train.GradientDescentOptimizer(learning_rate)\n",
    "    train = optimizer.minimize(loss)\n",
    "\n",
    "# Before starting, initialize the variables.  We will 'run' this first.\n",
    "init = tf.global_variables_initializer()\n",
    "with tf.Session() as sess:\n",
    "    sess.run(init)      \n",
    "    for step in range(200):\n",
    "        sess.run(train,{x: x_data, y_true: y_data})\n",
    "        \n",
    "    MSE = sess.run(loss,{x: x_data, y_true: y_data})\n",
    "print(MSE)"
   ]
  },
  {
   "cell_type": "markdown",
   "metadata": {},
   "source": [
    "### contirb.learn"
   ]
  },
  {
   "cell_type": "code",
   "execution_count": null,
   "metadata": {},
   "outputs": [],
   "source": [
    "NUM_STEPS = 200\n",
    "MINIBATCH_SIZE = 506\n",
    "\n",
    "feature_columns = learn.infer_real_valued_columns_from_input(x_data)\n",
    "\n",
    "reg = learn.LinearRegressor(\n",
    "      feature_columns=feature_columns,\n",
    "      optimizer=tf.train.GradientDescentOptimizer(\n",
    "      learning_rate=0.1)\n",
    "      )\n",
    "\n",
    "reg.fit(x_data, boston.target, steps=NUM_STEPS, \n",
    "        batch_size=MINIBATCH_SIZE)\n",
    "\n",
    "MSE = reg.evaluate(x_data, boston.target, steps=1)\n",
    "\n",
    "print(MSE)"
   ]
  }
 ],
 "metadata": {
  "kernelspec": {
   "display_name": "Python 3",
   "language": "python",
   "name": "python3"
  },
  "language_info": {
   "codemirror_mode": {
    "name": "ipython",
    "version": 3
   },
   "file_extension": ".py",
   "mimetype": "text/x-python",
   "name": "python",
   "nbconvert_exporter": "python",
   "pygments_lexer": "ipython3",
   "version": "3.6.0"
  }
 },
 "nbformat": 4,
 "nbformat_minor": 2
}
